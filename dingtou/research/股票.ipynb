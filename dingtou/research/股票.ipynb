{
 "cells": [
  {
   "cell_type": "code",
   "execution_count": 2,
   "id": "3dfff0c4",
   "metadata": {},
   "outputs": [],
   "source": [
    "import akshare as ak\n",
    "import pandas as pd\n",
    "import matplotlib\n",
    "import matplotlib.pyplot as plt\n",
    "import talib\n",
    "import numpy as np\n",
    "from matplotlib.font_manager import FontProperties\n",
    "import os\n",
    "import mplfinance as mpf \n",
    "import importlib\n",
    "import utils\n",
    "importlib.reload(utils)\n",
    "\n",
    "%matplotlib inline\n",
    "# 添加字体\n",
    "matplotlib.rcParams['axes.unicode_minus']=False # 如果不加入下面这一句，会导致负号无法显示\n",
    "plt.rcParams[\"font.sans-serif\"] = [\"SimHei\"]"
   ]
  },
  {
   "cell_type": "markdown",
   "id": "32de8f2a",
   "metadata": {},
   "source": [
    "# 思路\n",
    "\n",
    "参考这个:https://www.bilibili.com/video/BV1d5411P7Lt/\n"
   ]
  },
  {
   "cell_type": "markdown",
   "id": "c8516caf",
   "metadata": {},
   "source": [
    "# 获得上证指数\n",
    "指数代码：https://q.stock.sohu.com/cn/zs.shtml\n",
    "\n",
    "- SH000001: 上证指数\n",
    "- SH000300: 沪深300\n",
    "- SH000016：上证50\n",
    "- SH000905：中证500\n",
    "- SH000906：中证800\n",
    "- SH000852：中证1000"
   ]
  },
  {
   "cell_type": "code",
   "execution_count": 4,
   "id": "23ef5068",
   "metadata": {},
   "outputs": [
    {
     "name": "stdout",
     "output_type": "stream",
     "text": [
      "              日期     开盘     收盘     最高     最低     成交量           成交额     振幅  \\\n",
      "0     2011-05-27  17.50  17.55  20.00  16.70  159854  2.898755e+08  16.58   \n",
      "1     2011-05-30  16.71  15.80  16.73  15.80   76177  1.226957e+08   5.30   \n",
      "2     2011-05-31  15.39  15.69  15.98  15.25   39420  6.150944e+07   4.62   \n",
      "3     2011-06-01  15.73  16.09  16.26  15.51   35465  5.687685e+07   4.78   \n",
      "4     2011-06-02  15.80  15.62  16.09  15.40   30295  4.740355e+07   4.29   \n",
      "...          ...    ...    ...    ...    ...     ...           ...    ...   \n",
      "2748  2022-12-05   5.63   5.75   5.82   5.57  205726  1.178568e+08   4.46   \n",
      "2749  2022-12-06   5.75   5.70   5.82   5.65  143252  8.188055e+07   2.96   \n",
      "2750  2022-12-07   5.69   5.53   5.69   5.52  184204  1.027854e+08   2.98   \n",
      "2751  2022-12-08   5.53   5.47   5.59   5.46  124223  6.845612e+07   2.35   \n",
      "2752  2022-12-09   5.47   5.44   5.55   5.39  152129  8.287763e+07   2.93   \n",
      "\n",
      "        涨跌幅   涨跌额    换手率  \n",
      "0    -11.81 -2.35  28.55  \n",
      "1     -9.97 -1.75  13.60  \n",
      "2     -0.70 -0.11   7.04  \n",
      "3      2.55  0.40   6.33  \n",
      "4     -2.92 -0.47   5.41  \n",
      "...     ...   ...    ...  \n",
      "2748   2.68  0.15   1.68  \n",
      "2749  -0.87 -0.05   1.17  \n",
      "2750  -2.98 -0.17   1.50  \n",
      "2751  -1.08 -0.06   1.01  \n",
      "2752  -0.55 -0.03   1.24  \n",
      "\n",
      "[2753 rows x 11 columns]\n"
     ]
    }
   ],
   "source": [
    "code = \"002583\"\n",
    "df = ak.stock_zh_a_hist(symbol=code)\n",
    "print(df)"
   ]
  },
  {
   "cell_type": "code",
   "execution_count": null,
   "id": "1befccb9",
   "metadata": {},
   "outputs": [],
   "source": []
  },
  {
   "cell_type": "code",
   "execution_count": null,
   "id": "0aa764e7",
   "metadata": {},
   "outputs": [],
   "source": []
  },
  {
   "cell_type": "code",
   "execution_count": null,
   "id": "3eb3ae81",
   "metadata": {},
   "outputs": [],
   "source": []
  }
 ],
 "metadata": {
  "kernelspec": {
   "display_name": "Python 3 (ipykernel)",
   "language": "python",
   "name": "python3"
  },
  "language_info": {
   "codemirror_mode": {
    "name": "ipython",
    "version": 3
   },
   "file_extension": ".py",
   "mimetype": "text/x-python",
   "name": "python",
   "nbconvert_exporter": "python",
   "pygments_lexer": "ipython3",
   "version": "3.9.13"
  }
 },
 "nbformat": 4,
 "nbformat_minor": 5
}
