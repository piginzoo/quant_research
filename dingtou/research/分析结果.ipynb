{
 "cells": [
  {
   "cell_type": "markdown",
   "id": "eaf936dc",
   "metadata": {},
   "source": [
    "分析结果：\n",
    "```\n",
    "    测试和优化方案：\n",
    "    测试周期：  2013.1~2023.1（10年）\n",
    "    测试窗口    2年、3年、5年\n",
    "    滚动窗口    3个月滚动一次，每年4个滚动\n",
    "    测试数量：  8x4+7x4+5x4= 32+28+20 = 80个测试（ 剩余年数 * 年移动4次）\n",
    "```"
   ]
  },
  {
   "cell_type": "code",
   "execution_count": 16,
   "id": "9c2e062c",
   "metadata": {},
   "outputs": [
    {
     "name": "stdout",
     "output_type": "stream",
     "text": [
      "一共测试了59个场景\n",
      "平均年化：0.0363953564979821\n",
      "年化方差：0.04534137732426247\n",
      "最大年化：0.1310401541059451\n",
      "最小年化：-0.1253383697950389\n",
      "负收益比例：0.1016949152542373\n",
      "强于基金比例：0.6949152542372882\n",
      "比基金差的情况：\n",
      "      基金代码      投资起始      投资结束      组合年化     组合收益率      基准收益      基金收益\n",
      "15  510500  20181008  20200930  0.131040  0.279252  0.184627  0.378579\n",
      "16  510500  20190102  20201231  0.050914  0.104421  0.408787  0.594791\n",
      "17  510500  20190402  20210331  0.029506  0.059883  0.083445  0.122193\n",
      "18  510500  20190702  20210630  0.031552  0.064100  0.179785  0.390587\n",
      "19  510500  20191008  20210930  0.001385  0.002772  0.224672  0.494255\n",
      "20  510500  20200102  20211231  0.000369  0.000739  0.179754  0.421718\n",
      "21  510500  20200402  20220331  0.001122  0.002246  0.169589  0.276365\n",
      "22  510500  20200702  20220630  0.051265  0.105157  0.099673  0.125075\n",
      "39  510500  20180702  20210630  0.081977  0.266644  0.293865  0.398427\n",
      "40  510500  20181008  20210930  0.085555  0.279252  0.313511  0.613343\n",
      "41  510500  20190102  20211231  0.033661  0.104421  0.476408  0.868720\n",
      "42  510500  20190402  20220331  0.020295  0.062129  0.023728  0.150534\n",
      "43  510500  20190702  20220630  0.053505  0.169257  0.116518  0.343915\n",
      "44  510500  20191008  20220930  0.010387  0.031485  0.038036  0.226854\n",
      "45  510500  20200102  20221130  0.038772  0.117337  0.021437  0.214969\n",
      "52  510500  20160704  20210630  0.016405  0.084762  0.201630  0.167524\n",
      "53  510500  20161010  20210930  0.011353  0.058067  0.170604  0.181732\n",
      "54  510500  20170103  20211231  0.014678  0.075577  0.160672  0.249879\n",
      "年化为负的情况：\n",
      "      基金代码      投资起始      投资结束      组合年化     组合收益率      基准收益      基金收益\n",
      "6   510500  20160704  20180630 -0.026975 -0.053223 -0.047241 -0.152036\n",
      "7   510500  20161010  20180928 -0.071532 -0.137946 -0.074404 -0.243172\n",
      "8   510500  20170103  20181231 -0.125338 -0.234967 -0.204733 -0.325333\n",
      "28  510500  20151008  20180928 -0.017576 -0.051807 -0.102440 -0.217330\n",
      "29  510500  20160104  20181231 -0.069331 -0.193906 -0.243416 -0.380282\n",
      "32  510500  20161010  20190930 -0.008204 -0.024412 -0.046899 -0.209150\n"
     ]
    }
   ],
   "source": [
    "import pandas as pd\n",
    "df = pd.read_csv(\"../debug/510500_20150101_20221201_2,3,5_3.csv\")\n",
    "df1 = df[[\"基金代码\", \"投资起始\", \"投资结束\", \"组合年化\",\"组合收益\",\"基准收益\", \"基金收益\"]]\n",
    "plus = df1[df['组合收益']>0]\n",
    "minus = df1[df['组合收益']<0]\n",
    "good = df1[df['组合收益']>df['基金收益']]\n",
    "bad = df1[df['组合收益']<df['基金收益']]\n",
    "\n",
    "print(f\"一共测试了{len(df1)}个场景\")\n",
    "print(f\"平均年化：{df['组合年化'].mean()}\")\n",
    "print(f\"年化方差：{df['组合年化'].std()}\")\n",
    "print(f\"最大年化：{df['组合年化'].max()}\")\n",
    "print(f\"最小年化：{df['组合年化'].min()}\")\n",
    "print(f\"负收益比例：{len(minus)/len(df1)}\")\n",
    "print(f\"强于基金比例：{len(good)/len(df1)}\")\n",
    "print(\"比基金差的情况：\")\n",
    "print(bad)\n",
    "print(\"年化为负的情况：\")\n",
    "print(minus)\n"
   ]
  },
  {
   "cell_type": "code",
   "execution_count": 21,
   "id": "68b41e83",
   "metadata": {},
   "outputs": [
    {
     "data": {
      "text/plain": [
       "(array([ 1.,  0.,  0.,  0.,  0.,  0.,  2.,  0.,  0.,  0.,  0.,  1.,  1.,\n",
       "         1.,  3.,  5.,  5.,  3.,  7.,  5., 10.,  3.,  2.,  3.,  2.,  0.,\n",
       "         1.,  1.,  0.,  3.]),\n",
       " array([-0.12533837, -0.11679242, -0.10824647, -0.09970052, -0.09115457,\n",
       "        -0.08260862, -0.07406267, -0.06551671, -0.05697076, -0.04842481,\n",
       "        -0.03987886, -0.03133291, -0.02278696, -0.01424101, -0.00569506,\n",
       "         0.00285089,  0.01139684,  0.01994279,  0.02848874,  0.0370347 ,\n",
       "         0.04558065,  0.0541266 ,  0.06267255,  0.0712185 ,  0.07976445,\n",
       "         0.0883104 ,  0.09685635,  0.1054023 ,  0.11394825,  0.1224942 ,\n",
       "         0.13104015]),\n",
       " <BarContainer object of 30 artists>)"
      ]
     },
     "execution_count": 21,
     "metadata": {},
     "output_type": "execute_result"
    },
    {
     "data": {
      "image/png": "[encoded data removed]",
      "text/plain": [
       "<Figure size 432x288 with 1 Axes>"
      ]
     },
     "metadata": {
      "needs_background": "light"
     },
     "output_type": "display_data"
    }
   ],
   "source": [
    "import matplotlib.pyplot as plt\n",
    "plt.hist(df1['组合年化'],bins=30)"
   ]
  }
 ],
 "metadata": {
  "kernelspec": {
   "display_name": "Python 3 (ipykernel)",
   "language": "python",
   "name": "python3"
  },
  "language_info": {
   "codemirror_mode": {
    "name": "ipython",
    "version": 3
   },
   "file_extension": ".py",
   "mimetype": "text/x-python",
   "name": "python",
   "nbconvert_exporter": "python",
   "pygments_lexer": "ipython3",
   "version": "3.9.13"
  },
  "toc": {
   "base_numbering": 1,
   "nav_menu": {},
   "number_sections": true,
   "sideBar": true,
   "skip_h1_title": false,
   "title_cell": "Table of Contents",
   "title_sidebar": "Contents",
   "toc_cell": false,
   "toc_position": {},
   "toc_section_display": true,
   "toc_window_display": false
  }
 },
 "nbformat": 4,
 "nbformat_minor": 5
}
