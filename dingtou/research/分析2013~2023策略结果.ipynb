{
 "cells": [
  {
   "cell_type": "markdown",
   "id": "eaf936dc",
   "metadata": {},
   "source": [
    "分析结果：\n",
    "```\n",
    "    测试和优化方案：\n",
    "    测试周期：  2013.1~2023.1（10年）\n",
    "    测试窗口    2年、3年、5年\n",
    "    滚动窗口    3个月滚动一次，每年4个滚动\n",
    "    测试数量：  8x4+7x4+5x4= 32+28+20 = 80个测试（ 剩余年数 * 年移动4次）\n",
    "```"
   ]
  },
  {
   "cell_type": "code",
   "execution_count": 5,
   "id": "9c2e062c",
   "metadata": {},
   "outputs": [
    {
     "name": "stdout",
     "output_type": "stream",
     "text": [
      "一共测试了266个场景\n",
      "平均年化：0.06537966427202732\n",
      "年化方差：0.09505761545481416\n",
      "最大年化：0.3733779481921013\n",
      "最小年化：-0.1489728580229663\n",
      "负收益比例：0.16917293233082706\n",
      "强于基金比例：0.5451127819548872\n",
      "比基金差的情况：\n",
      "       基金代码      投资起始      投资结束      组合年化      组合收益      基准收益      基金收益\n",
      "0    510310  20130104  20151231  0.098375  0.325108  0.554323  0.521400\n",
      "1    510500  20130104  20151231  0.098375  0.325108  0.554323  1.201300\n",
      "2    159915  20130104  20151231  0.098375  0.325108  0.554323  2.600346\n",
      "3    510310  20140702  20160630  0.050218  0.102959  0.422541  0.490358\n",
      "4    510500  20140702  20160630  0.050218  0.102959  0.422541  0.606750\n",
      "..      ...       ...       ...       ...       ...       ...       ...\n",
      "249  510310  20160704  20190630 -0.037673 -0.108814 -0.003254  0.271102\n",
      "255  510310  20140402  20190329  0.008954  0.045577  0.501105  0.936814\n",
      "256  510500  20140402  20190329  0.008954  0.045577  0.501105  0.526654\n",
      "257  159915  20140402  20190329  0.008954  0.045577  0.501105  0.251028\n",
      "262  510310  20161010  20210930  0.084884  0.502850  0.170604  0.643528\n",
      "\n",
      "[121 rows x 7 columns]\n",
      "年化为负的情况：\n",
      "       基金代码      投资起始      投资结束      组合年化      组合收益      基准收益      基金收益\n",
      "35   510310  20161010  20190930 -0.031911 -0.092710 -0.046899  0.229790\n",
      "36   510500  20161010  20190930 -0.031911 -0.092710 -0.046899 -0.209150\n",
      "37   159915  20161010  20190930 -0.031911 -0.092710 -0.046899 -0.259580\n",
      "50   510310  20140702  20190630 -0.007406 -0.036487  0.446466  0.925620\n",
      "51   510500  20140702  20190630 -0.007406 -0.036487  0.446466  0.337123\n",
      "52   159915  20140702  20190630 -0.007406 -0.036487  0.446466  0.048221\n",
      "78   510310  20150702  20180630 -0.031004 -0.090159 -0.272275 -0.097643\n",
      "79   510500  20150702  20180630 -0.031004 -0.090159 -0.272275 -0.297834\n",
      "80   159915  20150702  20180630 -0.031004 -0.090159 -0.272275 -0.386578\n",
      "122  510310  20160704  20180630 -0.079462 -0.152610 -0.047241  0.139945\n",
      "123  510500  20160704  20180630 -0.079462 -0.152610 -0.047241 -0.152036\n",
      "124  159915  20160704  20180630 -0.079462 -0.152610 -0.047241 -0.292654\n",
      "132  510310  20141008  20190930 -0.007086 -0.034930  0.219236  0.682529\n",
      "133  510500  20141008  20190930 -0.007086 -0.034930  0.219236  0.066543\n",
      "134  159915  20141008  20190930 -0.007086 -0.034930  0.219236  0.035896\n",
      "156  510310  20170405  20200331 -0.005315 -0.015860 -0.159009  0.115820\n",
      "157  510500  20170405  20200331 -0.005315 -0.015860 -0.159009 -0.203136\n",
      "158  159915  20170405  20200331 -0.005315 -0.015860 -0.159009 -0.033191\n",
      "170  510310  20151008  20180928 -0.061152 -0.172466 -0.102440  0.109713\n",
      "171  510500  20151008  20180928 -0.061152 -0.172466 -0.102440 -0.217330\n",
      "172  159915  20151008  20180928 -0.061152 -0.172466 -0.102440 -0.348622\n",
      "179  510310  20130702  20180630 -0.018720 -0.090159  0.419055  0.714530\n",
      "180  510500  20130702  20180630 -0.018720 -0.090159  0.419055  0.645497\n",
      "181  159915  20130702  20180630 -0.018720 -0.090159  0.419055  0.410292\n",
      "185  510310  20161010  20180928 -0.112841 -0.212949 -0.074404  0.084843\n",
      "186  510500  20161010  20180928 -0.112841 -0.212949 -0.074404 -0.243172\n",
      "187  159915  20161010  20180928 -0.112841 -0.212949 -0.074404 -0.364394\n",
      "201  510310  20170103  20181231 -0.148973 -0.275753 -0.204733 -0.062840\n",
      "202  510500  20170103  20181231 -0.148973 -0.275753 -0.204733 -0.325333\n",
      "203  159915  20170103  20181231 -0.148973 -0.275753 -0.204733 -0.362772\n",
      "204  510310  20160104  20181231 -0.094787 -0.258259 -0.243416 -0.076342\n",
      "205  510500  20160104  20181231 -0.094787 -0.258259 -0.243416 -0.380282\n",
      "206  159915  20160104  20181231 -0.094787 -0.258259 -0.243416 -0.488590\n",
      "226  510310  20131008  20180928 -0.034135 -0.159414  0.283483  0.532429\n",
      "227  510500  20131008  20180928 -0.034135 -0.159414  0.283483  0.296940\n",
      "228  159915  20131008  20180928 -0.034135 -0.159414  0.283483 -0.012940\n",
      "235  510310  20160405  20190329 -0.001639 -0.004908  0.012346  0.258878\n",
      "236  510500  20160405  20190329 -0.001639 -0.004908  0.012346 -0.090964\n",
      "237  159915  20160405  20190329 -0.001639 -0.004908  0.012346 -0.254068\n",
      "242  510310  20140102  20181231 -0.054484 -0.244310  0.182285  0.417470\n",
      "243  510500  20140102  20181231 -0.054484 -0.244310  0.182285  0.161575\n",
      "244  159915  20140102  20181231 -0.054484 -0.244310  0.182285 -0.081562\n",
      "249  510310  20160704  20190630 -0.037673 -0.108814 -0.003254  0.271102\n",
      "250  510500  20160704  20190630 -0.037673 -0.108814 -0.003254 -0.182520\n",
      "251  159915  20160704  20190630 -0.037673 -0.108814 -0.003254 -0.324460\n"
     ]
    }
   ],
   "source": [
    "import pandas as pd\n",
    "df = pd.read_csv(\"../debug/510310,510500,159915,588090_20130101_20230101_2,3,5_3.csv\")\n",
    "df1 = df[[\"基金代码\", \"投资起始\", \"投资结束\", \"组合年化\",\"组合收益\",\"基准收益\", \"基金收益\"]]\n",
    "plus = df1[df['组合收益']>0]\n",
    "minus = df1[df['组合收益']<0]\n",
    "good = df1[df['组合收益']>df['基金收益']]\n",
    "bad = df1[df['组合收益']<df['基金收益']]\n",
    "\n",
    "print(f\"一共测试了{len(df1)}个场景\")\n",
    "print(f\"平均年化：{df['组合年化'].mean()}\")\n",
    "print(f\"年化方差：{df['组合年化'].std()}\")\n",
    "print(f\"最大年化：{df['组合年化'].max()}\")\n",
    "print(f\"最小年化：{df['组合年化'].min()}\")\n",
    "print(f\"负收益比例：{len(minus)/len(df1)}\")\n",
    "print(f\"强于基金比例：{len(good)/len(df1)}\")\n",
    "print(\"比基金差的情况：\")\n",
    "print(bad)\n",
    "print(\"年化为负的情况：\")\n",
    "print(minus)\n"
   ]
  },
  {
   "cell_type": "code",
   "execution_count": 6,
   "id": "68b41e83",
   "metadata": {},
   "outputs": [
    {
     "data": {
      "text/plain": [
       "(array([ 3.,  0.,  3.,  6.,  0.,  6., 12.,  3., 30., 42., 29., 18., 12.,\n",
       "        20., 22., 10.,  4.,  7.,  4.,  4.,  8.,  4., 11.,  0.,  0.,  0.,\n",
       "         0.,  4.,  0.,  4.]),\n",
       " array([-0.14897286, -0.13156116, -0.11414947, -0.09673778, -0.07932608,\n",
       "        -0.06191439, -0.0445027 , -0.027091  , -0.00967931,  0.00773238,\n",
       "         0.02514408,  0.04255577,  0.05996746,  0.07737916,  0.09479085,\n",
       "         0.11220255,  0.12961424,  0.14702593,  0.16443763,  0.18184932,\n",
       "         0.19926101,  0.21667271,  0.2340844 ,  0.25149609,  0.26890779,\n",
       "         0.28631948,  0.30373117,  0.32114287,  0.33855456,  0.35596625,\n",
       "         0.37337795]),\n",
       " <a list of 30 Patch objects>)"
      ]
     },
     "execution_count": 6,
     "metadata": {},
     "output_type": "execute_result"
    },
    {
     "name": "stderr",
     "output_type": "stream",
     "text": [
      "/data/software/py3/lib/python3.10/site-packages/matplotlib/backends/backend_agg.py:214: RuntimeWarning: Glyph 8722 missing from current font.\n",
      "  font.set_text(s, 0.0, flags=flags)\n",
      "/data/software/py3/lib/python3.10/site-packages/matplotlib/backends/backend_agg.py:183: RuntimeWarning: Glyph 8722 missing from current font.\n",
      "  font.set_text(s, 0, flags=flags)\n"
     ]
    },
    {
     "data": {
      "image/png": "[encoded data removed]",
      "text/plain": [
       "<Figure size 432x288 with 1 Axes>"
      ]
     },
     "metadata": {
      "needs_background": "light"
     },
     "output_type": "display_data"
    }
   ],
   "source": [
    "import matplotlib.pyplot as plt\n",
    "plt.hist(df1['组合年化'],bins=30)"
   ]
  },
  {
   "cell_type": "code",
   "execution_count": null,
   "id": "0abd7468",
   "metadata": {},
   "outputs": [],
   "source": []
  }
 ],
 "metadata": {
  "kernelspec": {
   "display_name": "Python 3 (ipykernel)",
   "language": "python",
   "name": "python3"
  },
  "language_info": {
   "codemirror_mode": {
    "name": "ipython",
    "version": 3
   },
   "file_extension": ".py",
   "mimetype": "text/x-python",
   "name": "python",
   "nbconvert_exporter": "python",
   "pygments_lexer": "ipython3",
   "version": "3.10.6"
  },
  "toc": {
   "base_numbering": 1,
   "nav_menu": {},
   "number_sections": true,
   "sideBar": true,
   "skip_h1_title": false,
   "title_cell": "Table of Contents",
   "title_sidebar": "Contents",
   "toc_cell": false,
   "toc_position": {},
   "toc_section_display": true,
   "toc_window_display": false
  }
 },
 "nbformat": 4,
 "nbformat_minor": 5
}
