{
 "cells": [
  {
   "cell_type": "code",
   "execution_count": null,
   "id": "3dfff0c4",
   "metadata": {},
   "outputs": [],
   "source": [
    "import akshare as ak\n",
    "import pandas as pd\n",
    "import matplotlib\n",
    "import matplotlib.pyplot as plt\n",
    "import talib as ta\n",
    "from matplotlib.font_manager import FontProperties\n",
    "import os\n",
    "%matplotlib inline\n",
    "# 添加字体\n",
    "# matplotlib.rcParams['axes.unicode_minus']=False # 如果不加入下面这一句，会导致负号无法显示\n",
    "# plt.rcParams[\"font.sans-serif\"] = [\"SimHei\"]"
   ]
  },
  {
   "cell_type": "markdown",
   "id": "32de8f2a",
   "metadata": {},
   "source": [
    "# 思路\n",
    "\n",
    "参考这个[定投视频](https://www.bilibili.com/video/BV1TA411x77e)，把握大盘的下跌，越跌越投，\n",
    "\n",
    "需要一下参数：\n",
    "- 基准：上证指数、上证50、沪深300、中证500、中证1000\n",
    "- 投资标的：指数ETF、各类股票基金 880\n",
    "- 加建仓比例"
   ]
  },
  {
   "cell_type": "code",
   "execution_count": null,
   "id": "35ad4441",
   "metadata": {},
   "outputs": [],
   "source": [
    "# 上证指数:https://www.akshare.xyz/data/index/index.html#id1\n",
    "\n",
    "if not os.path.exists(\"sh000001.csv\"):\n",
    "    df_stock_index = ak.stock_zh_index_daily(symbol=\"sh000001\")\n",
    "    df_stock_index.to_csv('sh000001.csv')\n",
    "else:\n",
    "    df_stock_index = pd.read_csv('sh000001.csv')\n",
    "    df_stock_index['date'] = pd.to_datetime(df_stock_index['date'], format='%Y-%m-%d')\n",
    "print(df_stock_index)"
   ]
  }
 ],
 "metadata": {
  "kernelspec": {
   "display_name": "Python 3 (ipykernel)",
   "language": "python",
   "name": "python3"
  },
  "language_info": {
   "codemirror_mode": {
    "name": "ipython",
    "version": 3
   },
   "file_extension": ".py",
   "mimetype": "text/x-python",
   "name": "python",
   "nbconvert_exporter": "python",
   "pygments_lexer": "ipython3",
   "version": "3.9.13"
  }
 },
 "nbformat": 4,
 "nbformat_minor": 5
}
